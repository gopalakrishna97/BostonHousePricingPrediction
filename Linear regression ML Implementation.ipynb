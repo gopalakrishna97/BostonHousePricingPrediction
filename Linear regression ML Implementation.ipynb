{
 "cells": [
  {
   "cell_type": "code",
   "execution_count": null,
   "id": "f2f4bd22",
   "metadata": {},
   "outputs": [],
   "source": [
    "import pandas as pd\n",
    "import numpy as np\n",
    "import matplotlib.pyplot as plt\n",
    "%matplotlib inline \n"
   ]
  },
  {
   "cell_type": "markdown",
   "id": "4f1d5354",
   "metadata": {},
   "source": [
    "## Loading Bostan House pricing data"
   ]
  },
  {
   "cell_type": "code",
   "execution_count": null,
   "id": "f91c37ff",
   "metadata": {},
   "outputs": [],
   "source": [
    "from sklearn.datasets import load_boston "
   ]
  },
  {
   "cell_type": "code",
   "execution_count": null,
   "id": "6b8e36c8",
   "metadata": {},
   "outputs": [],
   "source": [
    "boston = load_boston()"
   ]
  },
  {
   "cell_type": "code",
   "execution_count": null,
   "id": "496f65f9",
   "metadata": {},
   "outputs": [],
   "source": [
    "boston.keys()"
   ]
  },
  {
   "cell_type": "markdown",
   "id": "db7bd5cc",
   "metadata": {},
   "source": [
    "## lets check the discription of dataset"
   ]
  },
  {
   "cell_type": "code",
   "execution_count": null,
   "id": "d4f4f0bd",
   "metadata": {},
   "outputs": [],
   "source": [
    "print(boston.DESCR)"
   ]
  },
  {
   "cell_type": "code",
   "execution_count": null,
   "id": "b91b9db2",
   "metadata": {},
   "outputs": [],
   "source": [
    "print(boston.data)"
   ]
  },
  {
   "cell_type": "code",
   "execution_count": null,
   "id": "a1890cdb",
   "metadata": {},
   "outputs": [],
   "source": [
    "boston.feature_names"
   ]
  },
  {
   "cell_type": "markdown",
   "id": "a1180751",
   "metadata": {},
   "source": [
    "## Preparing Dataset"
   ]
  },
  {
   "cell_type": "code",
   "execution_count": null,
   "id": "6dec75c2",
   "metadata": {},
   "outputs": [],
   "source": [
    "Dataset = pd.DataFrame(boston.data,columns = boston.feature_names)"
   ]
  },
  {
   "cell_type": "code",
   "execution_count": null,
   "id": "2ce3b362",
   "metadata": {},
   "outputs": [],
   "source": [
    "Dataset"
   ]
  },
  {
   "cell_type": "code",
   "execution_count": null,
   "id": "ef21f7c4",
   "metadata": {},
   "outputs": [],
   "source": [
    "Dataset['price'] = boston.target"
   ]
  },
  {
   "cell_type": "code",
   "execution_count": null,
   "id": "fe36aa69",
   "metadata": {},
   "outputs": [],
   "source": [
    "Dataset"
   ]
  },
  {
   "cell_type": "code",
   "execution_count": null,
   "id": "2c8ca3aa",
   "metadata": {},
   "outputs": [],
   "source": [
    "Dataset.info()"
   ]
  },
  {
   "cell_type": "markdown",
   "id": "4aeaa167",
   "metadata": {},
   "source": [
    "## summerizing the stats of the data"
   ]
  },
  {
   "cell_type": "code",
   "execution_count": null,
   "id": "ba44babc",
   "metadata": {},
   "outputs": [],
   "source": [
    "Dataset.describe()"
   ]
  },
  {
   "cell_type": "markdown",
   "id": "afa423ff",
   "metadata": {},
   "source": [
    "## Check the missing values ..... this is important"
   ]
  },
  {
   "cell_type": "code",
   "execution_count": null,
   "id": "8bd7df7a",
   "metadata": {},
   "outputs": [],
   "source": [
    "Dataset.isnull().sum()"
   ]
  },
  {
   "cell_type": "markdown",
   "id": "91576d38",
   "metadata": {},
   "source": [
    "## EDA Exploratory data Analysis"
   ]
  },
  {
   "cell_type": "code",
   "execution_count": null,
   "id": "8ea5ff1c",
   "metadata": {},
   "outputs": [],
   "source": [
    "# correlation\n",
    "Dataset.corr()"
   ]
  },
  {
   "cell_type": "code",
   "execution_count": null,
   "id": "aa0583ef",
   "metadata": {},
   "outputs": [],
   "source": [
    "import seaborn as sns"
   ]
  },
  {
   "cell_type": "code",
   "execution_count": null,
   "id": "02cb7bb7",
   "metadata": {},
   "outputs": [],
   "source": [
    "sns.pairplot(Dataset)"
   ]
  },
  {
   "cell_type": "code",
   "execution_count": null,
   "id": "3f391591",
   "metadata": {},
   "outputs": [],
   "source": [
    "plt.scatter(Dataset['CRIM'],Dataset['price'])\n",
    "plt.xlabel('Crime rate')\n",
    "plt.ylabel('price')"
   ]
  },
  {
   "cell_type": "code",
   "execution_count": null,
   "id": "745f5fd2",
   "metadata": {},
   "outputs": [],
   "source": [
    "plt.scatter(Dataset['RM'],Dataset['price'])\n",
    "plt.xlabel('RM')\n",
    "plt.ylabel('price')"
   ]
  },
  {
   "cell_type": "code",
   "execution_count": null,
   "id": "5de12718",
   "metadata": {},
   "outputs": [],
   "source": [
    "import seaborn as sns\n",
    "sns.regplot(x = 'RM',y = 'price',data = Dataset) #positively correlated features"
   ]
  },
  {
   "cell_type": "code",
   "execution_count": null,
   "id": "b4607482",
   "metadata": {},
   "outputs": [],
   "source": [
    "sns.regplot(x = 'LSTAT',y = 'price',data = Dataset) #negatively correlated features"
   ]
  },
  {
   "cell_type": "code",
   "execution_count": null,
   "id": "50cdf905",
   "metadata": {},
   "outputs": [],
   "source": [
    "sns.regplot(x = 'CHAS',y = 'price',data = Dataset) #CHAS variable has only 1 or 0 "
   ]
  },
  {
   "cell_type": "code",
   "execution_count": null,
   "id": "78f19710",
   "metadata": {},
   "outputs": [],
   "source": [
    "sns.regplot(x = 'PTRATIO',y = 'price',data = Dataset) # slightly negatively correlated features\n",
    "                                                      # as PTRATIO increases the PRICE decreases"
   ]
  },
  {
   "cell_type": "markdown",
   "id": "82f25da0",
   "metadata": {},
   "source": [
    "# dependent and independent features\n"
   ]
  },
  {
   "cell_type": "markdown",
   "id": "2a4d4490",
   "metadata": {},
   "source": [
    "### Here price is the only dependent feature and the remaining all are independent features"
   ]
  },
  {
   "cell_type": "code",
   "execution_count": null,
   "id": "d52606b4",
   "metadata": {},
   "outputs": [],
   "source": [
    "X = Dataset.iloc[:,:-1] # taking all the features in to X variable except the last feature that is price\n",
    "y = Dataset.iloc[:,-1] # taking all the data point of the price column\n",
    "X.head()"
   ]
  },
  {
   "cell_type": "code",
   "execution_count": null,
   "id": "61d86efb",
   "metadata": {},
   "outputs": [],
   "source": [
    "print(y)"
   ]
  },
  {
   "cell_type": "markdown",
   "id": "89f507b5",
   "metadata": {},
   "source": [
    "## train test split"
   ]
  },
  {
   "cell_type": "code",
   "execution_count": null,
   "id": "942a8897",
   "metadata": {},
   "outputs": [],
   "source": [
    "from sklearn.model_selection import train_test_split\n",
    "X_train,X_test,y_train,y_test = train_test_split(X,y,test_size=0.3,random_state=42)"
   ]
  },
  {
   "cell_type": "code",
   "execution_count": null,
   "id": "b2fc9e22",
   "metadata": {},
   "outputs": [],
   "source": [
    "X_train"
   ]
  },
  {
   "cell_type": "code",
   "execution_count": null,
   "id": "8378f924",
   "metadata": {},
   "outputs": [],
   "source": [
    "X_test"
   ]
  },
  {
   "cell_type": "markdown",
   "id": "b97c08f0",
   "metadata": {},
   "source": [
    "## standardize the dataset"
   ]
  },
  {
   "cell_type": "code",
   "execution_count": null,
   "id": "62f71a3b",
   "metadata": {},
   "outputs": [],
   "source": [
    "from sklearn.preprocessing import StandardScaler\n",
    "scaler = StandardScaler()"
   ]
  },
  {
   "cell_type": "code",
   "execution_count": null,
   "id": "22019555",
   "metadata": {},
   "outputs": [],
   "source": [
    "X_train=scaler.fit_transform(X_train)"
   ]
  },
  {
   "cell_type": "code",
   "execution_count": null,
   "id": "35f816fa",
   "metadata": {},
   "outputs": [],
   "source": [
    "X_test = scaler.transform(X_test)"
   ]
  },
  {
   "cell_type": "code",
   "execution_count": null,
   "id": "f6b0038c",
   "metadata": {},
   "outputs": [],
   "source": [
    "X_train"
   ]
  },
  {
   "cell_type": "code",
   "execution_count": null,
   "id": "f6ec8698",
   "metadata": {},
   "outputs": [],
   "source": [
    "X_test"
   ]
  },
  {
   "cell_type": "markdown",
   "id": "712930b1",
   "metadata": {},
   "source": [
    "# Model Training"
   ]
  },
  {
   "cell_type": "code",
   "execution_count": null,
   "id": "c03a3f8a",
   "metadata": {},
   "outputs": [],
   "source": [
    "from sklearn.linear_model import LinearRegression"
   ]
  },
  {
   "cell_type": "code",
   "execution_count": null,
   "id": "a0ff5096",
   "metadata": {},
   "outputs": [],
   "source": [
    "regression = LinearRegression()"
   ]
  },
  {
   "cell_type": "code",
   "execution_count": null,
   "id": "be677c58",
   "metadata": {},
   "outputs": [],
   "source": [
    "regression.fit(X_train,y_train)"
   ]
  },
  {
   "cell_type": "code",
   "execution_count": null,
   "id": "4e424312",
   "metadata": {},
   "outputs": [],
   "source": [
    "## print the co-efficients\n",
    "print(regression.coef_) ## for every idividual feature it will give a co-efficient value"
   ]
  },
  {
   "cell_type": "code",
   "execution_count": null,
   "id": "3fde6d9e",
   "metadata": {},
   "outputs": [],
   "source": [
    "print(regression.intercept_)"
   ]
  },
  {
   "cell_type": "code",
   "execution_count": null,
   "id": "a1b6749d",
   "metadata": {},
   "outputs": [],
   "source": [
    "## on which parameters the model has been trained\n",
    "regression.get_params()"
   ]
  },
  {
   "cell_type": "code",
   "execution_count": null,
   "id": "8c3b0420",
   "metadata": {},
   "outputs": [],
   "source": [
    "## prediction with the test data\n",
    "reg_pred = regression.predict(X_test)"
   ]
  },
  {
   "cell_type": "code",
   "execution_count": null,
   "id": "19ffda6e",
   "metadata": {},
   "outputs": [],
   "source": [
    "reg_pred"
   ]
  },
  {
   "cell_type": "code",
   "execution_count": null,
   "id": "2a565694",
   "metadata": {},
   "outputs": [],
   "source": [
    "## plot a scatter plot for prediction \n",
    "plt.scatter(y_test,reg_pred)  # for the prediction of X_test , y_test is original values. so,,.. comparing the both \n",
    "\n",
    "## below fig we got the positive expectation "
   ]
  },
  {
   "cell_type": "code",
   "execution_count": null,
   "id": "f6dfe64a",
   "metadata": {},
   "outputs": [],
   "source": [
    "residuals = y_test-reg_pred ### residuals are the errors or difference btw the original and predicted "
   ]
  },
  {
   "cell_type": "code",
   "execution_count": null,
   "id": "56706767",
   "metadata": {},
   "outputs": [],
   "source": [
    "residuals  "
   ]
  },
  {
   "cell_type": "code",
   "execution_count": null,
   "id": "ac9a8431",
   "metadata": {},
   "outputs": [],
   "source": [
    "## plot this residuals \n",
    "sns.displot(residuals,kind = 'kde')\n",
    "\n",
    "# so by looking into the graph we can tell that our errors are lie btw -10 to +10 ,,, and from +10 to +30 there are some \n",
    "# residual values that can be considered as the outliers \n"
   ]
  },
  {
   "cell_type": "code",
   "execution_count": null,
   "id": "ce6ff82d",
   "metadata": {},
   "outputs": [],
   "source": [
    "## scattered plot w.r.to prediction and residuals\n",
    "# uniform distribution is observed for prediction and residuals\n",
    "plt.scatter(reg_pred,residuals)"
   ]
  },
  {
   "cell_type": "code",
   "execution_count": null,
   "id": "f7ee9419",
   "metadata": {},
   "outputs": [],
   "source": [
    "from sklearn.metrics  import mean_squared_error\n",
    "from sklearn.metrics  import mean_absolute_error"
   ]
  },
  {
   "cell_type": "code",
   "execution_count": null,
   "id": "cef37700",
   "metadata": {},
   "outputs": [],
   "source": [
    "print(mean_absolute_error(y_test,reg_pred))\n",
    "print(mean_squared_error(y_test,reg_pred))\n",
    "print(np.sqrt(mean_squared_error(y_test,reg_pred)))"
   ]
  },
  {
   "cell_type": "markdown",
   "id": "f3600eec",
   "metadata": {},
   "source": [
    "# R square and adjusted R square"
   ]
  },
  {
   "cell_type": "markdown",
   "id": "b526966d",
   "metadata": {},
   "source": [
    "#### Formula\n",
    "### R^2 = 1-SSR/SST\n",
    "#### R^2 =  coefficient of determination  SSR  = sum of squares of residuals  SST  =  total sum of squares"
   ]
  },
  {
   "cell_type": "code",
   "execution_count": null,
   "id": "8eee9677",
   "metadata": {},
   "outputs": [],
   "source": [
    "from sklearn.metrics import r2_score\n",
    "score = r2_score(y_test,reg_pred)\n",
    "score"
   ]
  },
  {
   "cell_type": "markdown",
   "id": "c5d3d18e",
   "metadata": {},
   "source": [
    "### Adjusted R^2 = 1 – [(1-R2)*(n-1)/(n-k-1)]\n",
    "#### where:\n",
    "\n",
    "#### R2: The R2 of the model n: The number of observations k: The number of predictor variables"
   ]
  },
  {
   "cell_type": "code",
   "execution_count": null,
   "id": "6b5416c4",
   "metadata": {},
   "outputs": [],
   "source": [
    "1 - (1-score)*(len(y_test)-1)/(len(y_test)-X_test.shape[1]-1)"
   ]
  },
  {
   "cell_type": "markdown",
   "id": "c46d6925",
   "metadata": {},
   "source": [
    "# New Data Prediction"
   ]
  },
  {
   "cell_type": "code",
   "execution_count": null,
   "id": "4b94e554",
   "metadata": {},
   "outputs": [],
   "source": [
    "## new data point\n",
    "new_data = boston.data[0].reshape(1,-1) # shaped data\n",
    "print(new_data)\n",
    "new_data.shape"
   ]
  },
  {
   "cell_type": "code",
   "execution_count": null,
   "id": "59753742",
   "metadata": {},
   "outputs": [],
   "source": [
    "## transformation of new_data\n",
    "scaler.transform(new_data)"
   ]
  },
  {
   "cell_type": "code",
   "execution_count": null,
   "id": "771bb929",
   "metadata": {},
   "outputs": [],
   "source": [
    "regression.predict(scaler.transform(new_data))"
   ]
  },
  {
   "cell_type": "markdown",
   "id": "31b6bb82",
   "metadata": {},
   "source": [
    "# Pickling the model file for deployment"
   ]
  },
  {
   "cell_type": "code",
   "execution_count": null,
   "id": "d438f9db",
   "metadata": {},
   "outputs": [],
   "source": [
    "import pickle"
   ]
  },
  {
   "cell_type": "code",
   "execution_count": null,
   "id": "898c87f6",
   "metadata": {},
   "outputs": [],
   "source": [
    "pickle.dump(regression,open('regmodel.pkl','wb'))"
   ]
  },
  {
   "cell_type": "code",
   "execution_count": null,
   "id": "44f97cf1",
   "metadata": {},
   "outputs": [],
   "source": [
    "pickled_model=pickle.load(open('regmodel.pkl','rb'))"
   ]
  },
  {
   "cell_type": "code",
   "execution_count": null,
   "id": "6c7d1527",
   "metadata": {},
   "outputs": [],
   "source": [
    "# prediction\n",
    "pickled_model.predict(scaler.transform(new_data))"
   ]
  },
  {
   "cell_type": "code",
   "execution_count": null,
   "id": "c5bb2edc",
   "metadata": {},
   "outputs": [],
   "source": []
  }
 ],
 "metadata": {
  "kernelspec": {
   "display_name": "Python 3.10.5 64-bit",
   "language": "python",
   "name": "python3"
  },
  "language_info": {
   "codemirror_mode": {
    "name": "ipython",
    "version": 3
   },
   "file_extension": ".py",
   "mimetype": "text/x-python",
   "name": "python",
   "nbconvert_exporter": "python",
   "pygments_lexer": "ipython3",
   "version": "3.10.5"
  },
  "vscode": {
   "interpreter": {
    "hash": "c7af7df4901773a0e355da496bf365ae011b1b331a57bbc9908dae1ee21823d7"
   }
  }
 },
 "nbformat": 4,
 "nbformat_minor": 5
}
